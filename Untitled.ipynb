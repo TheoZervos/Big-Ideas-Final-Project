{
 "cells": [
  {
   "cell_type": "code",
   "execution_count": 3,
   "metadata": {},
   "outputs": [
    {
     "data": {
      "text/html": [
       "<div>\n",
       "<style scoped>\n",
       "    .dataframe tbody tr th:only-of-type {\n",
       "        vertical-align: middle;\n",
       "    }\n",
       "\n",
       "    .dataframe tbody tr th {\n",
       "        vertical-align: top;\n",
       "    }\n",
       "\n",
       "    .dataframe thead th {\n",
       "        text-align: right;\n",
       "    }\n",
       "</style>\n",
       "<table border=\"1\" class=\"dataframe\">\n",
       "  <thead>\n",
       "    <tr style=\"text-align: right;\">\n",
       "      <th></th>\n",
       "      <th>CensusTract,percentEBLL2020,note2020,percentEBLL2019,note2019,percentEBLL2018,note2018,percentEBLL2017,note2017,percentEBLL2016,note2016,percentEBLL2015,note2015,percentEBLL15_20,note15_20</th>\n",
       "    </tr>\n",
       "  </thead>\n",
       "  <tbody>\n",
       "    <tr>\n",
       "      <th>0</th>\n",
       "      <td>42003010300,,Censored,,Censored,,Censored,,Cen...</td>\n",
       "    </tr>\n",
       "    <tr>\n",
       "      <th>1</th>\n",
       "      <td>42003020100,,Censored,,Censored,,Censored,,Cen...</td>\n",
       "    </tr>\n",
       "    <tr>\n",
       "      <th>2</th>\n",
       "      <td>42003020300,,Censored,,Censored,,Censored,,Cen...</td>\n",
       "    </tr>\n",
       "    <tr>\n",
       "      <th>3</th>\n",
       "      <td>42003030500,,Censored,,Censored,,Censored,,Cen...</td>\n",
       "    </tr>\n",
       "    <tr>\n",
       "      <th>4</th>\n",
       "      <td>42003040200,,Censored,,Censored,,Censored,,Cen...</td>\n",
       "    </tr>\n",
       "  </tbody>\n",
       "</table>\n",
       "</div>"
      ],
      "text/plain": [
       "  CensusTract,percentEBLL2020,note2020,percentEBLL2019,note2019,percentEBLL2018,note2018,percentEBLL2017,note2017,percentEBLL2016,note2016,percentEBLL2015,note2015,percentEBLL15_20,note15_20\n",
       "0  42003010300,,Censored,,Censored,,Censored,,Cen...                                                                                                                                          \n",
       "1  42003020100,,Censored,,Censored,,Censored,,Cen...                                                                                                                                          \n",
       "2  42003020300,,Censored,,Censored,,Censored,,Cen...                                                                                                                                          \n",
       "3  42003030500,,Censored,,Censored,,Censored,,Cen...                                                                                                                                          \n",
       "4  42003040200,,Censored,,Censored,,Censored,,Cen...                                                                                                                                          "
      ]
     },
     "execution_count": 3,
     "metadata": {},
     "output_type": "execute_result"
    }
   ],
   "source": [
    "import pandas as pd\n",
    "\n",
    "bloodl = pd.read_csv(\"ai.csv\", sep=\"\\t\")\n",
    "bloodl.head()"
   ]
  }
 ],
 "metadata": {
  "kernelspec": {
   "display_name": "Python 3",
   "language": "python",
   "name": "python3"
  },
  "language_info": {
   "codemirror_mode": {
    "name": "ipython",
    "version": 3
   },
   "file_extension": ".py",
   "mimetype": "text/x-python",
   "name": "python",
   "nbconvert_exporter": "python",
   "pygments_lexer": "ipython3",
   "version": "3.8.3"
  }
 },
 "nbformat": 4,
 "nbformat_minor": 4
}
